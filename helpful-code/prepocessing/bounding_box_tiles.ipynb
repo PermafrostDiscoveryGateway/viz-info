{
 "cells": [
  {
   "attachments": {},
   "cell_type": "markdown",
   "metadata": {},
   "source": [
    "## Create bounding box for a tileset for PDG\n",
    "\n",
    "This bounding box will go into the XML to zoom to layer.\n"
   ]
  },
  {
   "cell_type": "code",
   "execution_count": null,
   "metadata": {},
   "outputs": [],
   "source": [
    "import pdgstaging\n",
    "from pdgstaging import TileStager"
   ]
  },
  {
   "cell_type": "code",
   "execution_count": null,
   "metadata": {},
   "outputs": [],
   "source": [
    "yellow_tiles = '/home/pdg/data/ice-wedge-polygon-data/version_01/tiles/version_2023-01-31_temp_for_viz/transparency_color_testing/web_tiles_yellow_10_alpha/iwp_coverage/'\n",
    "\n",
    "config = {\n",
    "  \"deduplicate_clip_to_footprint\": True, \n",
    "  \"dir_input\": \"/home/jcohen/iwp_russia_subset_clipToFP_PR/iwp/\", \n",
    "  \"ext_input\": \".shp\",\n",
    "  \"output\": yellow_tiles,\n",
    "  \"ext_footprints\": \".shp\",\n",
    "  \"dir_footprints\": \"/home/jcohen/iwp_russia_subset_clipToFP_PR/footprints/\", \n",
    "  \"dir_staged\": \"staged/\",\n",
    "  \"dir_geotiff\": \"geotiff/\", \n",
    "  \"dir_web_tiles\": \"web_tiles/\", \n",
    "  \"filename_staging_summary\": \"staging_summary.csv\",\n",
    "  \"filename_rasterization_events\": \"raster_events.csv\",\n",
    "  \"filename_rasters_summary\": \"raster_summary.csv\",\n",
    "  \"filename_config\": \"config\",\n",
    "  \"simplify_tolerance\": 0.1,\n",
    "  \"tms_id\": \"WGS1984Quad\",\n",
    "  \"z_range\": [\n",
    "    0,\n",
    "    15\n",
    "  ],\n",
    "  \"geometricError\": 57,\n",
    "  \"z_coord\": 0,\n",
    "  \"statistics\": [\n",
    "    {\n",
    "      \"name\": \"iwp_coverage\",\n",
    "      \"weight_by\": \"area\",\n",
    "      \"property\": \"area_per_pixel_area\",\n",
    "      \"aggregation_method\": \"sum\",\n",
    "      \"resampling_method\": \"average\",\n",
    "      \"val_range\": [\n",
    "        0,\n",
    "        1\n",
    "      ],\n",
    "      \"palette\": [\n",
    "          \"#f8ff1f1A\", # 10% alpha yellow\n",
    "          \"#f8ff1f\" # solid yellow\n",
    "      ],\n",
    "      \"nodata_val\": 0,\n",
    "      \"nodata_color\": \"#ffffff00\"\n",
    "    },\n",
    "  ],\n",
    "  \"deduplicate_at\": [\n",
    "    \"raster\"\n",
    "  ],\n",
    "  \"deduplicate_keep_rules\": [\n",
    "    [\n",
    "      \"Date\",\n",
    "      \"larger\"\n",
    "    ]\n",
    "  ],\n",
    "  \"deduplicate_method\": \"footprints\"\n",
    "}\n",
    "\n",
    "stager = TileStager(config)"
   ]
  },
  {
   "cell_type": "code",
   "execution_count": null,
   "metadata": {},
   "outputs": [],
   "source": [
    "# add base dir\n",
    "stager.tiles.add_base_dir(name = 'yellow_tiles', dir_path = config['output'], ext = '.png')"
   ]
  },
  {
   "cell_type": "code",
   "execution_count": null,
   "metadata": {},
   "outputs": [],
   "source": [
    "stager.tiles"
   ]
  },
  {
   "cell_type": "code",
   "execution_count": null,
   "metadata": {},
   "outputs": [],
   "source": [
    "#list = pdgstaging.TilePathManager().get_total_bounding_box(dir = 'iwp_coverage', z = 1)\n",
    "#list = stager.tiles.get_total_bounding_box(dir = 'yellow_tiles')\n",
    "#list = stager.tiles.get_total_bounding_box(dir = 'test', z=15)\n",
    "list = stager.tiles.get_total_bounding_box(dir = 'yellow_tiles', z=15)\n",
    "list\n"
   ]
  },
  {
   "cell_type": "markdown",
   "metadata": {},
   "source": [
    "### Get bounds of 1 tiles using morecantile\n",
    "\n",
    "Helpful for retrieving the rectangle to zoom to layer in PDG portal!"
   ]
  },
  {
   "cell_type": "code",
   "execution_count": 2,
   "metadata": {},
   "outputs": [],
   "source": [
    "import morecantile\n",
    "import mercantile"
   ]
  },
  {
   "cell_type": "code",
   "execution_count": null,
   "metadata": {},
   "outputs": [],
   "source": [
    "tms = morecantile.tms.get(\"WGS1984Quad\")\n",
    "# Tile(x=8, y=27, z=7)\n",
    "tms.bounds(morecantile.Tile(x = 8, y = 27, z = 7))"
   ]
  },
  {
   "cell_type": "markdown",
   "metadata": {},
   "source": [
    "### Get tile that contains a lat & long pair"
   ]
  },
  {
   "cell_type": "code",
   "execution_count": 9,
   "metadata": {},
   "outputs": [
    {
     "data": {
      "text/plain": [
       "Tile(x=8, y=27, z=7)"
      ]
     },
     "execution_count": 9,
     "metadata": {},
     "output_type": "execute_result"
    }
   ],
   "source": [
    "# long = -156.78020\n",
    "# lat = 71.28225\n",
    "# zoom = 9\n",
    "mercantile.tile(lng = -156.78725, lat = 71.28696, zoom = 7)"
   ]
  },
  {
   "cell_type": "code",
   "execution_count": 7,
   "metadata": {},
   "outputs": [
    {
     "data": {
      "text/plain": [
       "BoundingBox(left=-157.50000000000003, bottom=70.61261423801925, right=-154.68749999999997, top=71.52490903732816)"
      ]
     },
     "execution_count": 7,
     "metadata": {},
     "output_type": "execute_result"
    }
   ],
   "source": [
    "# define the TMS and insert the tile that contains the coord pair to retrieve the bounds\n",
    "tms = morecantile.tms.get(\"WebMercatorQuad\")\n",
    "# Tile(x=8, y=27, z=7)\n",
    "tms.bounds(morecantile.Tile(x = 8, y = 27, z = 7))"
   ]
  },
  {
   "cell_type": "markdown",
   "metadata": {},
   "source": [
    "### Get all tiles that fall within a bounding box"
   ]
  },
  {
   "cell_type": "code",
   "execution_count": 8,
   "metadata": {},
   "outputs": [
    {
     "data": {
      "text/plain": [
       "[Tile(x=8, y=27, z=7)]"
      ]
     },
     "execution_count": 8,
     "metadata": {},
     "output_type": "execute_result"
    }
   ],
   "source": [
    "# mercantile.tiles(west, south, east, north, zooms, truncate=False)\n",
    "# bbox finder website: http://bboxfinder.com/#71.276512,-156.795824,71.310482,-156.663130\n",
    "# -156.822070,71.266541,-156.533335,71.344341\n",
    "tiles = mercantile.tiles(-157.50000000000003, 70.61261423801925, -154.68749999999997, 71.52490903732816, 7)\n",
    "tiles_list = list(tiles)\n",
    "tiles_list\n"
   ]
  },
  {
   "cell_type": "markdown",
   "metadata": {},
   "source": [
    "### Get the smallest tile containing the bbox\n"
   ]
  },
  {
   "cell_type": "code",
   "execution_count": null,
   "metadata": {},
   "outputs": [],
   "source": [
    "mercantile.bounding_tile(-156.822070,71.266541,-156.533335,71.344341)"
   ]
  }
 ],
 "metadata": {
  "kernelspec": {
   "display_name": "arcade_layer",
   "language": "python",
   "name": "python3"
  },
  "language_info": {
   "codemirror_mode": {
    "name": "ipython",
    "version": 3
   },
   "file_extension": ".py",
   "mimetype": "text/x-python",
   "name": "python",
   "nbconvert_exporter": "python",
   "pygments_lexer": "ipython3",
   "version": "3.10.13"
  },
  "orig_nbformat": 4
 },
 "nbformat": 4,
 "nbformat_minor": 2
}
