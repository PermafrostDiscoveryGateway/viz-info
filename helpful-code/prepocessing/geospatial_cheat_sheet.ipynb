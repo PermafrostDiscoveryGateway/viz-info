{
 "cells": [
  {
   "cell_type": "markdown",
   "metadata": {},
   "source": [
    "# Python Cheat Sheet for Geospatial Data\n",
    "\n",
    "This notebook contains \"common code\" chunks that can be applied to explore and clean many geospatial datasets that're submitted for visualization on the [Permafrost Discovery Gateway](https://arcticdata.io/catalog/portals/permafrost) (PDG). The PDG is an interactive data portal for datasets related to the environment and communities in and around the Arctic region. Many of these datasets are submitted in vector or raster format, so they can be explored with `geopandas`, `rasterio`, and `matplotlib`. Sometimes the best way to explore a PDG dataset is to input a dataset sample into a simple version of the visualization workflow."
   ]
  },
  {
   "cell_type": "markdown",
   "metadata": {},
   "source": [
    "### Geodataframe Exploration and Wrangling "
   ]
  },
  {
   "cell_type": "code",
   "execution_count": null,
   "metadata": {},
   "outputs": [],
   "source": [
    "import geopandas as gpd\n",
    "import matplotlib.pyplot as plt\n",
    "import numpy as np"
   ]
  },
  {
   "cell_type": "code",
   "execution_count": null,
   "metadata": {},
   "outputs": [],
   "source": [
    "# count NA values in each column of a geodataframe\n",
    "na_counts = {}\n",
    "for column in gdf.columns:\n",
    "    na_counts[column] = gdf[column].isna().sum()\n",
    "\n",
    "for column, count in na_counts.items():\n",
    "    print(f\"Column '{column}': {count} NA values\")"
   ]
  },
  {
   "cell_type": "code",
   "execution_count": null,
   "metadata": {},
   "outputs": [],
   "source": [
    "# print the rows in gdf that have NA for the column pf_frac\n",
    "rows_with_na = gdf[gdf['pf_frac'].isna()]\n",
    "rows_with_na"
   ]
  },
  {
   "cell_type": "code",
   "execution_count": null,
   "metadata": {},
   "outputs": [],
   "source": [
    "# remove the rows that have NA values in a certain attribute \"TKThLP\"\n",
    "gdf_clean = gdf[gdf['TKThLP'].notna()]"
   ]
  },
  {
   "cell_type": "code",
   "execution_count": null,
   "metadata": {},
   "outputs": [],
   "source": [
    "# add column that codes the categorical strings of the \"EXTENT\" attribute\n",
    "# into numbers in order to do stats with the viz workflow\n",
    "\n",
    "# pair the string conditions and with numerical choices, in order\n",
    "conditions = [\n",
    "    (gdf['EXTENT'] == \"C\"),\n",
    "    (gdf['EXTENT'] == \"D\"),\n",
    "    (gdf['EXTENT'] == \"S\"),\n",
    "    (gdf['EXTENT'] == \"I\")\n",
    "]\n",
    "choices = [4, 3, 2, 1]\n",
    "\n",
    "# create new column \n",
    "gdf['extent_code'] = np.select(conditions, choices)"
   ]
  },
  {
   "cell_type": "code",
   "execution_count": null,
   "metadata": {},
   "outputs": [],
   "source": [
    "# explore distribution of `MultiPolygons` and singular `Polygons` in a geopackage\n",
    "single_polygons = gdf[gdf.geometry.type == 'Polygon']\n",
    "multipolygons = gdf[gdf.geometry.type == 'MultiPolygon']\n",
    "print(f\"Number of sinlge Polygon geometries: {len(single_polygons)}\\nNumber of MultiPolygon geometries: {len(multipolygons)}\")"
   ]
  },
  {
   "cell_type": "code",
   "execution_count": null,
   "metadata": {},
   "outputs": [],
   "source": [
    "# subset gdf for only valid geometries\n",
    "gdf_valid = gdf[gdf.geometry.is_valid]"
   ]
  },
  {
   "cell_type": "code",
   "execution_count": null,
   "metadata": {},
   "outputs": [],
   "source": [
    "# clip geometries to the extent of other geometries\n",
    "filtered_gdf = gpd.clip(gdf = gdf_valid, \n",
    "                        mask = land_valid, \n",
    "                        keep_geom_type = True)"
   ]
  },
  {
   "cell_type": "code",
   "execution_count": null,
   "metadata": {},
   "outputs": [],
   "source": [
    "# split the cleaned data into 6 subfiles\n",
    "# each file will have equal number of rows \n",
    "split_gdfs = np.array_split(data_clean, 6)\n",
    "\n",
    "for i, split_gdf in enumerate(split_gdfs):\n",
    "    split_gdf.reset_index(inplace = True)\n",
    "    # Create the filename with a different number ranging from 1 to 5\n",
    "    filename = f'/home/jcohen/infrastructure/data_cleaned_split/SACHI_v2_clean_{i + 1}.gpkg'\n",
    "    split_gdf.to_file(filename, driver = \"GPKG\", index = True)\n",
    "    print(f'Saved {filename}')"
   ]
  },
  {
   "cell_type": "markdown",
   "metadata": {},
   "source": [
    "### Geodataframe Plotting"
   ]
  },
  {
   "cell_type": "code",
   "execution_count": null,
   "metadata": {},
   "outputs": [],
   "source": [
    "# plot one specific geometry at location 10\n",
    "gdf['geometry'][9]"
   ]
  },
  {
   "cell_type": "code",
   "execution_count": null,
   "metadata": {},
   "outputs": [],
   "source": [
    "# plot all geometries together\n",
    "fig, ax = plt.subplots(figsize=(10, 10))\n",
    "gdf.plot(cmap = 'viridis', linewidth = 0.8, ax = ax)"
   ]
  },
  {
   "cell_type": "code",
   "execution_count": null,
   "metadata": {},
   "outputs": [],
   "source": [
    "# plot with palette based on the attribute \"EXTENT\"\n",
    "fig, ax = plt.subplots(figsize=(10, 10))\n",
    "\n",
    "gdf.plot(column = 'EXTENT', \n",
    "         linewidth = 0.8,\n",
    "         ax = ax, \n",
    "         cmap = 'viridis', \n",
    "         legend = True)"
   ]
  },
  {
   "cell_type": "code",
   "execution_count": null,
   "metadata": {},
   "outputs": [],
   "source": [
    "# plot each polygon in a different color\n",
    "\n",
    "# create a new GeoDataFrame with a 'color' column for each polygon\n",
    "gdf['color'] = range(len(gdf))\n",
    "\n",
    "# create a colormap with as many colors as there are polygons\n",
    "colormap = plt.cm.viridis\n",
    "fig, ax = plt.subplots(figsize=(18, 18))\n",
    "\n",
    "for idx, row in gdf.iterrows():\n",
    "    color = colormap(row['color'] / len(gdf))\n",
    "    gpd.GeoSeries(row['geometry']).plot(ax = ax, \n",
    "                                        color = color, \n",
    "                                        edgecolor = 'black')\n",
    "\n",
    "ax.set_title(\"Polygons that cross the antimeridian\")\n",
    "\n",
    "# Show the plot\n",
    "plt.show()"
   ]
  },
  {
   "cell_type": "code",
   "execution_count": null,
   "metadata": {},
   "outputs": [],
   "source": [
    "# plot the gdf with one fill color and borders \n",
    "\n",
    "fig, ax = plt.subplots(figsize=(8, 8))\n",
    "\n",
    "gdf.plot(ax = ax, \n",
    "         facecolor = 'blue', \n",
    "         edgecolor = 'black')\n",
    "\n",
    "plt.title('Land Plot')\n",
    "plt.xlabel('Longitude')\n",
    "plt.ylabel('Latitude')\n",
    "\n",
    "plt.show()"
   ]
  },
  {
   "cell_type": "code",
   "execution_count": null,
   "metadata": {},
   "outputs": [],
   "source": [
    "# plot a bar chart to show variable distribution\n",
    "\n",
    "gdf['variable'].value_counts().plot(kind='bar')\n",
    "\n",
    "plt.xlabel('Attribute Values')\n",
    "plt.ylabel('Count')\n",
    "plt.title('Distribution of variable')\n",
    "# Setting x-axis limit to a maximum value of 4\n",
    "# plt.xlim(right = 4)\n",
    "\n",
    "plt.show()"
   ]
  },
  {
   "cell_type": "code",
   "execution_count": null,
   "metadata": {},
   "outputs": [],
   "source": [
    "# plot a histogram to show variable distribution with 10 bins\n",
    "\n",
    "plt.hist(gdf['permanent_water'], \n",
    "         bins = 10,\n",
    "         edgecolor ='black')\n",
    "\n",
    "plt.xlabel('Binned permanent water values')\n",
    "plt.ylabel('Count')\n",
    "plt.title('Distribution of permanent water values')\n",
    "\n",
    "plt.show()"
   ]
  },
  {
   "cell_type": "code",
   "execution_count": null,
   "metadata": {},
   "outputs": [],
   "source": [
    "# plot 2 different types of geometries on top of each other: polygon and line geometries\n",
    "\n",
    "# plot the polygon gdf first\n",
    "ax = poly.plot(color = 'none', \n",
    "               edgecolor = 'red',\n",
    "               facecolor = 'yellow', \n",
    "               linewidth = 0.5, \n",
    "               figsize = (13, 13))\n",
    "\n",
    "# plot the lines on top of the polygon geometries\n",
    "land.plot(ax = ax, \n",
    "          facecolor = 'none', \n",
    "          edgecolor = 'black', \n",
    "          linewidth = 1,\n",
    "          figsize = (13,13))\n",
    "\n",
    "plt.show()"
   ]
  },
  {
   "cell_type": "markdown",
   "metadata": {},
   "source": [
    "### Simplest possible execution of the PDG visualization workflow with 1 input file\n"
   ]
  },
  {
   "cell_type": "code",
   "execution_count": null,
   "metadata": {},
   "outputs": [],
   "source": [
    "# Simple viz-workflow script\n",
    "\n",
    "# use env: viz_3-10_local\n",
    "\n",
    "from datetime import datetime\n",
    "import json\n",
    "import logging\n",
    "import logging.handlers\n",
    "import os\n",
    "\n",
    "import pdgstaging\n",
    "from pdgstaging import logging_config\n",
    "import pdgraster\n",
    "\n",
    "\n",
    "lc = \"/home/jcohen/nodata_val_testing/data/test_polygons.gpkg\"\n",
    "\n",
    "config = {\n",
    "  \"deduplicate_clip_to_footprint\": False,\n",
    "  \"deduplicate_method\": None,\n",
    "  \"dir_input\": \"/home/jcohen/nodata_val_testing/data/\", \n",
    "  \"ext_input\": \".gpkg\",\n",
    "  \"dir_staged\": \"/home/jcohen/nodata_val_testing/staged/\", \n",
    "  \"dir_geotiff\": \"/home/jcohen/nodata_val_testing/geotiff/\",  \n",
    "  \"dir_web_tiles\": \"/home/jcohen/nodata_val_testing/web_tiles/\", \n",
    "  \"filename_staging_summary\": \"/home/jcohen/nodata_val_testing/staging_summary.csv\",\n",
    "  \"filename_rasterization_events\": \"/home/jcohen/nodata_val_testing/raster_events.csv\",\n",
    "  \"filename_rasters_summary\": \"/home/jcohen/nodata_val_testing/raster_summary.csv\",\n",
    "  \"version\": datetime.now().strftime(\"%B%d,%Y\"),\n",
    "  \"simplify_tolerance\": 0.1,\n",
    "  \"tms_id\": \"WGS1984Quad\",\n",
    "  \"z_range\": [\n",
    "    0,\n",
    "    11\n",
    "  ],\n",
    "  \"geometricError\": 57,\n",
    "  \"z_coord\": 0,\n",
    "  \"statistics\": [\n",
    "    {\n",
    "      \"name\": \"change_rate\", \n",
    "      \"weight_by\": \"area\",\n",
    "      \"property\": \"ChangeRateNet_myr-1\", \n",
    "      \"aggregation_method\": \"min\", \n",
    "      \"resampling_method\": \"mode\",  \n",
    "      \"val_range\": [\n",
    "        -2,\n",
    "        2\n",
    "      ],\n",
    "      \"palette\": [\"#ff0000\", # red\n",
    "                  \"#FF8C00\", # DarkOrange\n",
    "                  \"#FFA07A\", # LightSalmon\n",
    "                  \"#FFFF00\", # yellow\n",
    "                  \"#66CDAA\", # MediumAquaMarine\n",
    "                  \"#AFEEEE\", # PaleTurquoise,\n",
    "                  \"#0000ff\"], # blue\n",
    "      \"nodata_val\": 999,\n",
    "      \"nodata_color\": \"#ffffff00\" # fully transparent white\n",
    "    },\n",
    "  ],\n",
    "}\n",
    "\n",
    "print(\"Staging...\")\n",
    "\n",
    "stager = pdgstaging.TileStager(config = config, check_footprints = False)\n",
    "\n",
    "# generate the staged files\n",
    "stager.stage(lc)\n",
    "\n",
    "print(\"Staging complete. Rasterizing...\")\n",
    "\n",
    "# -------------------------------------------------------------\n",
    "\n",
    "# for initial testing, only rasterize the highest z-level:\n",
    "# staged_paths = stager.tiles.get_filenames_from_dir(base_dir = \"staged\")\n",
    "# rasterizer = pdgraster.RasterTiler(config)\n",
    "# rasterizer.rasterize_vectors(staged_paths, make_parents = False)\n",
    "\n",
    "# or rasterize all z-levels and web tiles:\n",
    "rasterizer = pdgraster.RasterTiler(config)\n",
    "rasterizer.rasterize_all()\n",
    "\n",
    "# -------------------------------------------------------------\n",
    "\n",
    "print(\"Script complete.\")"
   ]
  },
  {
   "cell_type": "markdown",
   "metadata": {},
   "source": [
    "## Raster plotting and exploration"
   ]
  },
  {
   "cell_type": "code",
   "execution_count": null,
   "metadata": {},
   "outputs": [],
   "source": [
    "import rasterio\n",
    "from rasterio.plot import show\n",
    "import numpy as np"
   ]
  },
  {
   "cell_type": "code",
   "execution_count": 3,
   "metadata": {},
   "outputs": [
    {
     "data": {
      "image/png": "[encoded data removed]",
      "text/plain": [
       "<Figure size 640x480 with 1 Axes>"
      ]
     },
     "metadata": {},
     "output_type": "display_data"
    }
   ],
   "source": [
    "raster_path = \"/home/jcohen/viz-info/helpful-code/geotiff/WGS1984Quad/15/5603/3607.tif\"\n",
    "with rasterio.open(raster_path) as src:\n",
    "    show(src)"
   ]
  },
  {
   "cell_type": "code",
   "execution_count": null,
   "metadata": {},
   "outputs": [],
   "source": [
    "# plot the raster with NA values shown (assuming there are NA values to show!)\n",
    "\n",
    "raster_path = \"/home/jcohen/nodata_val_testing/geotiff/WGS1984Quad/11/2539/255.tif\"\n",
    "with rasterio.open(raster_path) as src:\n",
    "    raster_data = src.read(1) \n",
    "\n",
    "    # assign NA values as -999\n",
    "    raster_data[np.isnan(raster_data)] = -999\n",
    "\n",
    "    plt.figure(figsize = (10, 10))\n",
    "    plt.imshow(raster_data, cmap = 'terrain')\n",
    "    plt.colorbar(label = \"Pixel Value\")\n",
    "    plt.title(\"Raster NA Values\")\n",
    "\n",
    "    plt.show()"
   ]
  },
  {
   "cell_type": "code",
   "execution_count": null,
   "metadata": {},
   "outputs": [],
   "source": [
    "# get unique values in an array and their counts\n",
    "# (best for arrays with a known small range of integers)\n",
    "unique_values, counts = np.unique(array, return_counts = True)\n",
    "\n",
    "for value, count in zip(unique_values, counts):\n",
    "    print(f\"Value: {value}, Frequency: {count}\")"
   ]
  },
  {
   "cell_type": "code",
   "execution_count": null,
   "metadata": {},
   "outputs": [],
   "source": [
    "# print the CRS of a raster\n",
    "raster_path = \"/home/jcohen/lake_change_time_series/geotiff/WGS1984Quad/11/3479/187.tif\"\n",
    "with rasterio.open(raster_path) as data:\n",
    "    crs = data.crs\n",
    "    print(crs)"
   ]
  },
  {
   "cell_type": "markdown",
   "metadata": {},
   "source": [
    "## Convert a geopackage into a raster\n",
    "\n",
    "For rasters in units of meters:\n",
    "\n",
    "A dataset's geospatial transform is an affine transformation matrix that maps pixels in _(row,col)_ coords to _(x,y)_ spatial positions. \n",
    "\n",
    "If the dataset's units were in meters, the _spatial position_ of the upper left of the dataset is derived from the product of:\n",
    "- (0,0) which are the row and column coords of the upper left corner of the dataset, and\n",
    "- the dataset's affine transformation matrix "
   ]
  },
  {
   "cell_type": "code",
   "execution_count": null,
   "metadata": {},
   "outputs": [],
   "source": [
    "import geopandas as gpd"
   ]
  },
  {
   "cell_type": "code",
   "execution_count": null,
   "metadata": {},
   "outputs": [],
   "source": [
    "# first load in a gpkg vector from lake change time series dataset \n",
    "gdf = gpd.read_file(\"/var/data/submission/pdg/nitze_lake_change/time_series_2023-04-05/exploded_annual_2017-2021/yr2017/merged_lakes_2017_exploded.gpkg\")\n",
    "gdf.crs"
   ]
  },
  {
   "cell_type": "code",
   "execution_count": null,
   "metadata": {},
   "outputs": [],
   "source": [
    "# subset to a small number of polygons for testing\n",
    "gdf_subset = gdf.iloc[:5]"
   ]
  },
  {
   "cell_type": "code",
   "execution_count": null,
   "metadata": {},
   "outputs": [],
   "source": [
    "output_path = \"/home/jcohen/vector_to_raster/lake_change_raster.tif\"\n",
    "width = 256\n",
    "height = 256\n",
    "# * is used to unpack args from a list or tuple, and gdf.total_bounds returns a tuple of min and max coords of all geoms \n",
    "transform = rasterio.transform.from_bounds(*gdf_subset.total_bounds, width, height)\n",
    "transform"
   ]
  },
  {
   "cell_type": "code",
   "execution_count": null,
   "metadata": {},
   "outputs": [],
   "source": [
    "with rasterio.open(\n",
    "    output_path,\n",
    "    'w',\n",
    "    driver = 'GTiff',\n",
    "    height = height,\n",
    "    width = width,\n",
    "    count = 1,\n",
    "    dtype = rasterio.uint8,\n",
    "    crs = gdf_subset.crs,\n",
    "    transform = transform,\n",
    ") as dst:\n",
    "    shapes = ((geom, 255) for geom in gdf_subset.geometry)\n",
    "    rasterized = features.rasterize(shapes = shapes, out_shape = (height, width), transform = transform)\n",
    "    dst.write(rasterized, indexes = 1)"
   ]
  },
  {
   "cell_type": "code",
   "execution_count": null,
   "metadata": {},
   "outputs": [],
   "source": [
    "LC_raster_path = output_path\n",
    "with rasterio.open(LC_raster_path) as LC_data:\n",
    "    crs = LC_data.crs\n",
    "    print(crs)\n",
    "    show(LC_data)"
   ]
  }
 ],
 "metadata": {
  "kernelspec": {
   "display_name": "viz_3-10_local",
   "language": "python",
   "name": "python3"
  },
  "language_info": {
   "codemirror_mode": {
    "name": "ipython",
    "version": 3
   },
   "file_extension": ".py",
   "mimetype": "text/x-python",
   "name": "python",
   "nbconvert_exporter": "python",
   "pygments_lexer": "ipython3",
   "version": "3.10.12"
  },
  "orig_nbformat": 4
 },
 "nbformat": 4,
 "nbformat_minor": 2
}
